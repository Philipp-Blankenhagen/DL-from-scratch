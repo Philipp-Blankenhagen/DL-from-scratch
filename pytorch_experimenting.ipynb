{
 "cells": [
  {
   "cell_type": "markdown",
   "id": "0f23833e-14e8-4fdd-a578-57ff47d29c89",
   "metadata": {},
   "source": [
    "# PyTorch"
   ]
  },
  {
   "cell_type": "code",
   "execution_count": 1,
   "id": "87df1bce-4455-4138-bcfc-ed5a44ec14af",
   "metadata": {
    "tags": []
   },
   "outputs": [],
   "source": [
    "ip = get_ipython()\n",
    "ip.sphinxify_docstring = True\n",
    "ip.enable_html_pager = True"
   ]
  },
  {
   "cell_type": "code",
   "execution_count": 2,
   "id": "1c9321e5-8e7f-46b1-bc6a-7c535503d187",
   "metadata": {
    "tags": []
   },
   "outputs": [],
   "source": [
    "import torch as t\n",
    "import numpy as np\n",
    "import torch\n",
    "import matplotlib.pyplot as plt\n",
    "import matplotlib.ticker as ticker\n",
    "import math"
   ]
  },
  {
   "cell_type": "code",
   "execution_count": 3,
   "id": "aa06e345-eedc-479f-937d-bc999e05933d",
   "metadata": {
    "tags": []
   },
   "outputs": [],
   "source": [
    "t_v = torch.Tensor([1,2,3])\n",
    "t_m = torch.Tensor([[1,2],[3,4]])"
   ]
  },
  {
   "cell_type": "code",
   "execution_count": 4,
   "id": "94673ead-a3d0-4b52-aa59-500fce89ad83",
   "metadata": {
    "tags": []
   },
   "outputs": [
    {
     "data": {
      "text/plain": [
       "tensor(14.)"
      ]
     },
     "execution_count": 4,
     "metadata": {},
     "output_type": "execute_result"
    }
   ],
   "source": [
    "t_v@t_v\n",
    "t.dot(t_v,t_v)"
   ]
  },
  {
   "cell_type": "code",
   "execution_count": 5,
   "id": "5ae130d3-b9f6-44b0-bd89-2b5c58361ac2",
   "metadata": {
    "tags": []
   },
   "outputs": [],
   "source": [
    "# create a 2 x 3 tensor with random values\n",
    "empty_tensor = torch.Tensor(2, 3)\n",
    "\n",
    "# create a 2 x 3 tensor with random values between -1and 1\n",
    "uniform_tensor = torch.Tensor(2, 3).uniform_(-1, 1)\n",
    "\n",
    "# create vector with normal distribution samples\n",
    "normal_vector = torch.Tensor(2,1).normal_(mean=0,std=1)"
   ]
  },
  {
   "cell_type": "code",
   "execution_count": 6,
   "id": "fd4874cd-8a8b-49ef-ab92-06034f4c30a7",
   "metadata": {
    "tags": []
   },
   "outputs": [
    {
     "name": "stdout",
     "output_type": "stream",
     "text": [
      "torch.Size([2, 2])\n",
      "torch.FloatTensor\n"
     ]
    },
    {
     "data": {
      "text/plain": [
       "array([[31., 18.],\n",
       "       [27., 22.]], dtype=float32)"
      ]
     },
     "execution_count": 6,
     "metadata": {},
     "output_type": "execute_result"
    }
   ],
   "source": [
    "# Slicing is like in numpy\n",
    "t_m[0,0]=5\n",
    "t_m\n",
    "t_m[:,0]\n",
    "\n",
    "# Reshaping is like in numpy\n",
    "t_m.reshape(4,)\n",
    "\n",
    "# getting info\n",
    "print(t_m.shape)\n",
    "print(t_m.type())\n",
    "\n",
    "# Basic operations\n",
    "t_m.T # Transpose\n",
    "t_m@t_m\n",
    "\n",
    "t_m@t_m # Matrix multiplication\n",
    "t_m.numpy()@t_m.numpy() # Like in numpy"
   ]
  },
  {
   "cell_type": "code",
   "execution_count": 7,
   "id": "6a2e97a8-907b-4799-89a0-dc72760c5749",
   "metadata": {
    "tags": []
   },
   "outputs": [
    {
     "data": {
      "text/plain": [
       "True"
      ]
     },
     "execution_count": 7,
     "metadata": {},
     "output_type": "execute_result"
    }
   ],
   "source": [
    "# Convert\n",
    "np_m = np.array([[1,2],[3,4]])\n",
    "\n",
    "torch.from_numpy(np_m)\n",
    "type(torch.from_numpy(np_m).numpy()) ==type(np_m)\n"
   ]
  },
  {
   "cell_type": "markdown",
   "id": "9322e2aa-75de-49e6-95dc-7bd851dbb5cf",
   "metadata": {},
   "source": [
    "## Linear Regression"
   ]
  },
  {
   "cell_type": "code",
   "execution_count": 8,
   "id": "a0120d52-85c4-4d74-888e-fa918c5205d6",
   "metadata": {
    "tags": []
   },
   "outputs": [],
   "source": [
    "import torch\n",
    "from torch.autograd import Variable # Variable can then be used for backpropagation\n",
    "from torch.nn import functional as F\n",
    "\n",
    "# My line: y = 3x + 4\n",
    "x_vector = torch.Tensor(100).uniform_(-20,20)[:,None] # data needs to be in vector form\n",
    "y_vector = 3*x_vector +4\n",
    "x_data = Variable(x_vector) \n",
    "y_data = Variable(y_vector)\n"
   ]
  },
  {
   "cell_type": "code",
   "execution_count": 9,
   "id": "54a0af9a-2b95-48f9-b55c-5fe68df61cdb",
   "metadata": {
    "tags": []
   },
   "outputs": [],
   "source": [
    "class LinearRegression(torch.nn.Module): # Class needs to be from torch.nn.Module\n",
    "    def __init__(self):\n",
    "        super().__init__()\n",
    "        self.linear = torch.nn.Linear(1, 1,bias=False)\n",
    "        \n",
    "    def forward(self, x):\n",
    "        y_pred = self.linear(x)\n",
    "        return y_pred\n",
    "    "
   ]
  },
  {
   "cell_type": "code",
   "execution_count": 10,
   "id": "0bad327e-2d62-4d1c-b9a6-b3161f56bc0c",
   "metadata": {
    "tags": []
   },
   "outputs": [
    {
     "name": "stdout",
     "output_type": "stream",
     "text": [
      "\n",
      "\n",
      " Epoch: 0\n",
      "Parameters before Parameter containing:\n",
      "tensor([[0.5185]], requires_grad=True)\n",
      "\n",
      "loss tensor(741.1370, grad_fn=<MseLossBackward0>)\n",
      "\n",
      "Gradient tensor([[-589.0569]])\n",
      "Parameters after step Parameter containing:\n",
      "tensor([[1.1075]], requires_grad=True)\n",
      "\n",
      "\n",
      " Epoch: 1\n",
      "Parameters before Parameter containing:\n",
      "tensor([[1.1075]], requires_grad=True)\n",
      "\n",
      "loss tensor(435.6560, grad_fn=<MseLossBackward0>)\n",
      "\n",
      "Gradient tensor([[-448.1297]])\n",
      "Parameters after step Parameter containing:\n",
      "tensor([[1.5557]], requires_grad=True)\n",
      "\n",
      "\n",
      " Epoch: 2\n",
      "Parameters before Parameter containing:\n",
      "tensor([[1.5557]], requires_grad=True)\n",
      "\n",
      "loss tensor(258.8581, grad_fn=<MseLossBackward0>)\n",
      "\n",
      "Gradient tensor([[-340.9182]])\n",
      "Parameters after step Parameter containing:\n",
      "tensor([[1.8966]], requires_grad=True)\n",
      "tensor(258.8581, grad_fn=<MseLossBackward0>)\n"
     ]
    }
   ],
   "source": [
    "class LinearRegression(torch.nn.Module): # Class needs to be from torch.nn.Module\n",
    "    def __init__(self):\n",
    "        super().__init__()\n",
    "        self.linear = torch.nn.Linear(1, 1,bias=False)\n",
    "        \n",
    "    def forward(self, x):\n",
    "        y_pred = self.linear(x)\n",
    "        return y_pred\n",
    "    \n",
    "\n",
    "model = LinearRegression()\n",
    "criterion = torch.nn.MSELoss()\n",
    "optimizer = torch.optim.SGD(model.parameters(), lr=0.001)\n",
    "\n",
    "\n",
    "for epoch in range(3):\n",
    "    print('\\n\\n Epoch:',epoch)\n",
    "    for i in model.parameters():\n",
    "        print('Parameters before',i)\n",
    "    optimizer.zero_grad() # Reset the gradient\n",
    "    \n",
    "    # Forward pass\n",
    "    y_pred = model.forward(x_data)\n",
    "    #print('y_pred',y_pred)\n",
    "    \n",
    "    # Compute Loss\n",
    "    loss = criterion(y_pred, y_data)\n",
    "    print('\\nloss',loss)\n",
    "\n",
    "    \n",
    "    # Backward pass\n",
    "    loss.backward()\n",
    "    for param in model.parameters():\n",
    "        print('\\nGradient',param.grad.data)\n",
    "    \n",
    "    optimizer.step()\n",
    "    for i in model.parameters():\n",
    "        print('Parameters after step',i)\n",
    "print(loss)"
   ]
  },
  {
   "cell_type": "markdown",
   "id": "016a2dec-6a8b-4fbe-93d9-7d5f43c8ed2f",
   "metadata": {},
   "source": [
    "# Linear Regression manual"
   ]
  },
  {
   "cell_type": "code",
   "execution_count": 12,
   "id": "272e741a-27cd-4c44-ac7c-751555ac0b5e",
   "metadata": {
    "tags": []
   },
   "outputs": [],
   "source": [
    "import pandas as pd\n",
    "df = pd.read_csv('Data/RegressionData.txt', sep = ' ',header = None)\n",
    "\n"
   ]
  },
  {
   "cell_type": "code",
   "execution_count": 26,
   "id": "30523820-b112-43b8-9a64-3d283fc7ec87",
   "metadata": {
    "tags": []
   },
   "outputs": [
    {
     "name": "stdout",
     "output_type": "stream",
     "text": [
      "Epoch 0, Error 8.7524961050765\n",
      "Epoch 25, Error 2.845218675110453\n",
      "Epoch 50, Error 2.4092357555774293\n",
      "Epoch 75, Error 2.164996683412419\n",
      "Epoch 100, Error 2.0281721740842213\n",
      "Epoch 125, Error 1.9515220861720064\n",
      "Epoch 150, Error 1.9085821479562761\n",
      "Epoch 175, Error 1.8845268814302625\n",
      "Epoch 200, Error 1.8710509457004447\n",
      "Epoch 225, Error 1.8635016282319474\n"
     ]
    },
    {
     "data": {
      "text/plain": [
       "<matplotlib.collections.PathCollection at 0x14e019710>"
      ]
     },
     "execution_count": 26,
     "metadata": {},
     "output_type": "execute_result"
    },
    {
     "data": {
      "image/png": "[encoded data removed]",
      "text/plain": [
       "<Figure size 640x480 with 1 Axes>"
      ]
     },
     "metadata": {},
     "output_type": "display_data"
    }
   ],
   "source": [
    "delta = 0.01\n",
    "y_t = torch.Tensor(df[1])[None,:]\n",
    "X = torch.stack((torch.ones(10, requires_grad = True),torch.tensor(df[0],requires_grad=True)),dim = 0)\n",
    "w = torch.tensor(np.random.uniform(-1,1,(2,1))).requires_grad_(True)\n",
    "\n",
    "\n",
    "for epoch in range(0,250):\n",
    "    #print(w)\n",
    "    w.requires_grad_(True)\n",
    "    y = w.T@X\n",
    "    e = (y_t - y)**2\n",
    "    E = e.sum()\n",
    "    E.backward()\n",
    "    with torch.no_grad():\n",
    "        w = w - delta * w.grad\n",
    "    if ((epoch % 25) == 0):  \n",
    "        print(f'Epoch {epoch}, Error {E}')\n",
    "        \n",
    "plt.scatter(X[1,:].detach(),y_t[0,:].detach())\n",
    "plt.scatter(X[1,:].detach(),y[0,:].detach())"
   ]
  },
  {
   "cell_type": "markdown",
   "id": "38a2f4e1-8685-45d3-a731-b0f8b04fcd75",
   "metadata": {},
   "source": [
    "# Autograd"
   ]
  },
  {
   "cell_type": "code",
   "execution_count": 19,
   "id": "90e68f29-bc55-4842-a30c-c901f1f6f03c",
   "metadata": {
    "tags": []
   },
   "outputs": [
    {
     "data": {
      "text/plain": [
       "tensor([12., 27.,  3.])"
      ]
     },
     "execution_count": 19,
     "metadata": {},
     "output_type": "execute_result"
    }
   ],
   "source": [
    "x = torch.tensor([2.,3.,1.],requires_grad=True)\n",
    "y  = torch.pow(x,3)\n",
    "out = torch.sum(y)\n",
    "out.backward()\n",
    "\n",
    "# sum(x**3)\n",
    "# d/dx: 3x^2\n",
    "\n",
    "#x.grad #3x^2, 12, 27, 3\n",
    "x.grad\n",
    "\n",
    "# x.grad calculates the partial derivative of the calculations x is involved into\n"
   ]
  },
  {
   "cell_type": "code",
   "execution_count": 20,
   "id": "546978c3-6f40-4218-8cdc-de874632e1e6",
   "metadata": {
    "tags": []
   },
   "outputs": [
    {
     "data": {
      "text/plain": [
       "tensor([3., 3., 3.])"
      ]
     },
     "execution_count": 20,
     "metadata": {},
     "output_type": "execute_result"
    }
   ],
   "source": [
    "x_2 = torch.tensor([4.,5.,6.],requires_grad=True)\n",
    "out_2 = torch.sum(x_2*3)\n",
    "out_2.backward()\n",
    "x_2.grad\n",
    "\n",
    "# If x is part of multiple calculations with a different backward, it gets messed up :)"
   ]
  },
  {
   "cell_type": "code",
   "execution_count": 21,
   "id": "8e9f5569-9391-45e5-b60c-a93461800d92",
   "metadata": {
    "tags": []
   },
   "outputs": [],
   "source": [
    "a = torch.linspace(0., 2. * math.pi, steps=25, requires_grad=True)\n",
    "b = torch.sin(a) # sin(a)\n",
    "c = 2 * b # 2 * sin(a)\n",
    "d = c + 1 # (2* sin(a) + 1)\n",
    "out = d.sum() # sum(2 * sin(a) + 1)"
   ]
  },
  {
   "cell_type": "code",
   "execution_count": 22,
   "id": "9de0fe52-8b12-4a37-8d14-633cb7d896f5",
   "metadata": {
    "tags": []
   },
   "outputs": [
    {
     "data": {
      "text/plain": [
       "[<matplotlib.lines.Line2D at 0x14de71990>]"
      ]
     },
     "execution_count": 22,
     "metadata": {},
     "output_type": "execute_result"
    },
    {
     "data": {
      "image/png": "[encoded data removed]",
      "text/plain": [
       "<Figure size 640x480 with 1 Axes>"
      ]
     },
     "metadata": {},
     "output_type": "display_data"
    }
   ],
   "source": [
    "plt.plot(a.detach(),b.detach())"
   ]
  },
  {
   "cell_type": "code",
   "execution_count": 23,
   "id": "aad6dfc8-0c40-4812-9aa2-94f38bb1d31f",
   "metadata": {
    "tags": []
   },
   "outputs": [],
   "source": [
    "d.grad_fn # Addition backward\n",
    "c.grad_fn # Multiplication backward\n",
    "b.grad_fn # sinus backward\n",
    "a.grad_fn # Nothing backward since this is the input"
   ]
  },
  {
   "cell_type": "code",
   "execution_count": 24,
   "id": "b7fed24a-0902-4871-8a1b-a3e8adb121e3",
   "metadata": {
    "tags": []
   },
   "outputs": [
    {
     "name": "stdout",
     "output_type": "stream",
     "text": [
      "d:\n",
      "<AddBackward0 object at 0x14df53e50>\n",
      "((<MulBackward0 object at 0x14df52680>, 0), (None, 0))\n",
      "((<SinBackward0 object at 0x14df53e50>, 0), (None, 0))\n",
      "((<AccumulateGrad object at 0x14de7bf40>, 0),)\n",
      "()\n",
      "\n",
      "c:\n",
      "<MulBackward0 object at 0x14de7bfa0>\n",
      "\n",
      "b:\n",
      "<SinBackward0 object at 0x14de7bfa0>\n",
      "\n",
      "a:\n",
      "None\n"
     ]
    }
   ],
   "source": [
    "# Also previou operations can be shown\n",
    "print('d:')\n",
    "print(d.grad_fn) \n",
    "print(d.grad_fn.next_functions)\n",
    "print(d.grad_fn.next_functions[0][0].next_functions)\n",
    "print(d.grad_fn.next_functions[0][0].next_functions[0][0].next_functions)\n",
    "print(d.grad_fn.next_functions[0][0].next_functions[0][0].next_functions[0][0].next_functions)\n",
    "\n",
    "print('\\nc:')\n",
    "print(c.grad_fn)\n",
    "print('\\nb:')\n",
    "print(b.grad_fn)\n",
    "print('\\na:')\n",
    "print(a.grad_fn)"
   ]
  },
  {
   "cell_type": "code",
   "execution_count": null,
   "id": "1fa46d20-5bb1-46ef-9d0f-ba2ccef1e07b",
   "metadata": {},
   "outputs": [],
   "source": [
    "x = torch.ones(1, requires_grad=True)\n",
    "y = x + 2\n",
    "z = y * y * 2\n",
    "# z = (x+2)* (x+2) * 2 = 2x^2 +8x + 8\n",
    "# ∂z/∂x = 4x + 8\n",
    "\n",
    "z.backward()     # automatically calculates the gradient\n",
    "print(x.grad)    # ∂z/∂x = 12"
   ]
  },
  {
   "cell_type": "markdown",
   "id": "b8ae9839-e7d4-4594-a006-039a4ae3b115",
   "metadata": {},
   "source": [
    "## Ein anderes Mal"
   ]
  },
  {
   "cell_type": "code",
   "execution_count": 316,
   "id": "4af06456-82bf-4cdf-9552-c5b67cef33a0",
   "metadata": {},
   "outputs": [],
   "source": [
    "# Logistic regression\n",
    "# The same input x output either 1 or 0\n",
    "\n",
    "from torch.nn import functional as F\n",
    "\n",
    "y_data=Variable((x_data>10)*1)\n"
   ]
  },
  {
   "cell_type": "code",
   "execution_count": 31,
   "id": "9e9e4a35-855e-4992-b72e-f0f591710d95",
   "metadata": {
    "tags": []
   },
   "outputs": [],
   "source": [
    "class LogisticRegression(torch.nn.Module):\n",
    "    def __init__(self):\n",
    "        super().__init__()\n",
    "        self.layer = torch.nn.Linear(1,1)\n",
    "    def forward(self,x):\n",
    "        pred = F.sigmoid(self.layer(x))\n",
    "        \n",
    "        return pred\n",
    "        \n",
    "    "
   ]
  },
  {
   "cell_type": "code",
   "execution_count": 32,
   "id": "e5ff8d4f-e9e8-4c54-bdef-7583c7480abd",
   "metadata": {
    "collapsed": true,
    "jupyter": {
     "outputs_hidden": true
    },
    "tags": []
   },
   "outputs": [
    {
     "ename": "NameError",
     "evalue": "name 'x_data' is not defined",
     "output_type": "error",
     "traceback": [
      "\u001b[0;31m---------------------------------------------------------------------------\u001b[0m",
      "\u001b[0;31mNameError\u001b[0m                                 Traceback (most recent call last)",
      "Cell \u001b[0;32mIn[32], line 15\u001b[0m\n\u001b[1;32m     12\u001b[0m optimizer\u001b[38;5;241m.\u001b[39mzero_grad()\n\u001b[1;32m     14\u001b[0m \u001b[38;5;66;03m# Forward pass\u001b[39;00m\n\u001b[0;32m---> 15\u001b[0m y_pred \u001b[38;5;241m=\u001b[39m model(x_data)\n\u001b[1;32m     17\u001b[0m \u001b[38;5;66;03m# Loss\u001b[39;00m\n\u001b[1;32m     18\u001b[0m loss \u001b[38;5;241m=\u001b[39m loss_function(y_pred,y_data)\n",
      "\u001b[0;31mNameError\u001b[0m: name 'x_data' is not defined"
     ]
    }
   ],
   "source": [
    "# Initialize model\n",
    "model = LogisticRegression()\n",
    "\n",
    "# Loss\n",
    "loss_function = torch.nn.BCELoss()\n",
    "\n",
    "# Optimizer\n",
    "optimizer = torch.optim.SGD(model.parameters(),lr=0.001)\n",
    "\n",
    "for i in range(1000):\n",
    "    # Reset gradients\n",
    "    optimizer.zero_grad()\n",
    "    \n",
    "    # Forward pass\n",
    "    y_pred = model(x_data)\n",
    "    \n",
    "    # Loss\n",
    "    loss = loss_function(y_pred,y_data)\n",
    "    \n",
    "    # Backward propagation\n",
    "    loss.backward()\n",
    "    \n",
    "    \n",
    "    # Change weights\n",
    "    optimizer.step()\n",
    "    \n",
    "print(loss)"
   ]
  },
  {
   "cell_type": "code",
   "execution_count": 35,
   "id": "03f9c831-9066-407a-9ffb-07de4f195079",
   "metadata": {
    "tags": []
   },
   "outputs": [],
   "source": [
    "class Linear_Regression(t.nn.Module):\n",
    "    def __init__(self):\n",
    "        super().__init__()\n",
    "        self.layer = t.nn.Linear(1,1)\n",
    "        \n",
    "    def forward(self,x):\n",
    "        pred = self.layer(x)\n",
    "        return pred\n",
    "    \n",
    "    "
   ]
  },
  {
   "cell_type": "code",
   "execution_count": 47,
   "id": "30828a79-706b-435c-a737-c0fe59e3b77e",
   "metadata": {
    "tags": []
   },
   "outputs": [
    {
     "name": "stdout",
     "output_type": "stream",
     "text": [
      "Parameter containing:\n",
      "tensor([[0.5864]], requires_grad=True)\n",
      "Parameter containing:\n",
      "tensor([0.1717], requires_grad=True)\n"
     ]
    }
   ],
   "source": [
    "for i in model.parameters():\n",
    "    print(i)"
   ]
  },
  {
   "cell_type": "code",
   "execution_count": 36,
   "id": "b9e85a9a-1c5a-47cb-a9c8-57fc8d94597f",
   "metadata": {
    "tags": []
   },
   "outputs": [],
   "source": [
    "model = Linear_Regression()"
   ]
  },
  {
   "cell_type": "code",
   "execution_count": 30,
   "id": "017fe673-12e7-4731-9a45-62c61e8b2a0d",
   "metadata": {
    "tags": []
   },
   "outputs": [
    {
     "data": {
      "text/plain": [
       "tensor([1, 2, 3])"
      ]
     },
     "execution_count": 30,
     "metadata": {},
     "output_type": "execute_result"
    }
   ],
   "source": [
    "loss_function = t.nn.MSELoss()\n",
    "\n"
   ]
  },
  {
   "cell_type": "code",
   "execution_count": 38,
   "id": "5d8469df-08ce-453d-aa61-298a5a7bbf4b",
   "metadata": {
    "tags": []
   },
   "outputs": [
    {
     "data": {
      "text/plain": [
       "tensor([0.7581], grad_fn=<ViewBackward0>)"
      ]
     },
     "execution_count": 38,
     "metadata": {},
     "output_type": "execute_result"
    }
   ],
   "source": [
    "model.forward(t.Tensor([1]))"
   ]
  }
 ],
 "metadata": {
  "kernelspec": {
   "display_name": "Python 3 (ipykernel)",
   "language": "python",
   "name": "python3"
  },
  "language_info": {
   "codemirror_mode": {
    "name": "ipython",
    "version": 3
   },
   "file_extension": ".py",
   "mimetype": "text/x-python",
   "name": "python",
   "nbconvert_exporter": "python",
   "pygments_lexer": "ipython3",
   "version": "3.11.5"
  }
 },
 "nbformat": 4,
 "nbformat_minor": 5
}
