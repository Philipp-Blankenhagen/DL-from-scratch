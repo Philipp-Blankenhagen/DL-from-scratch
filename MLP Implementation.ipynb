{
 "cells": [
  {
   "cell_type": "code",
   "execution_count": 2,
   "id": "a7a4a753-5324-4eef-a327-2c04393228ea",
   "metadata": {
    "tags": []
   },
   "outputs": [],
   "source": [
    "import numpy as np\n",
    "import matplotlib.pyplot as plt\n",
    "import pandas as pd\n",
    "import torch\n",
    "from torch import nn"
   ]
  },
  {
   "cell_type": "markdown",
   "id": "8fe75eda-30f3-4b53-8559-50eeaf6b2810",
   "metadata": {},
   "source": [
    "## This notebook includes the implementation of a simple MLP with pytorch and manually."
   ]
  },
  {
   "cell_type": "code",
   "execution_count": 9,
   "id": "1d3d4e79-4915-49fd-86e5-931fa19f18df",
   "metadata": {
    "tags": []
   },
   "outputs": [],
   "source": [
    "# Loading the data\n",
    "#data = pd.read_csv('RegressionData.txt', header=None, sep = ' ')\n",
    "#data.columns=['x','y']\n",
    "X = np.array([0.5503, 0.9206, 0.5359, 0.6081, 0.0202, 0.8545, 0.2357, 0.4847, 0.3996, 0.1957])[:,None]\n",
    "y = np.array([-0.5894,-0.2507 ,-0.0468 ,-0.3402  ,0.2857 ,-1.0683  ,0.8605 ,-0.0801  ,0.6837, 1.185 ])[:,None]\n",
    "X = torch.tensor(X,dtype = torch.float)\n",
    "y = torch.tensor(y,dtype = torch.float)"
   ]
  },
  {
   "cell_type": "markdown",
   "id": "61bc3130-0e3d-40f1-a419-6c27e17f7884",
   "metadata": {},
   "source": [
    "## Manual implementation of an MLP"
   ]
  },
  {
   "cell_type": "code",
   "execution_count": 10,
   "id": "0b99db67-d4bd-418f-9627-616be33e6f18",
   "metadata": {
    "tags": []
   },
   "outputs": [],
   "source": [
    "class MLP_reg:\n",
    "    def __init__(self):\n",
    "        self.w_21 = np.random.uniform(-0.5, 0.5, size = (4,1))\n",
    "        self.w_10 = np.random.uniform(-0.5, 0.5, size = (2,3))\n",
    "        self.w_21_d = np.zeros_like(self.w_21)\n",
    "        self.w_10_d = np.zeros_like(self.w_10)\n",
    "    def forward(self, x): \n",
    "        #print('x',x)\n",
    "        self.h_0 = np.array([[1],[x]])\n",
    "        #print('h_0',self.h_0)\n",
    "        self.h_1_no_bias = (self.h_0.T@self.w_10).T # Without bias\n",
    "        #print('h_1_no_bias',self.h_1_no_bias) # Works\n",
    "        self.s_1 = np.insert(np.tanh(self.h_1_no_bias),0,1)[:,None] # Works\n",
    "        #print('s_1',self.s_1)\n",
    "        self.h_2 = self.w_21.T@self.s_1\n",
    "        #print('h_2',self.h_2)\n",
    "        self.s_2 = self.h_2\n",
    "        #print('s_2',self.s_2)\n",
    "        \n",
    "        return self.s_2[0]\n",
    "                \n",
    "    def gradient_update(self,x,y):\n",
    "        #y_pred = np.vectorize(self.forward())(y)\n",
    "        #print(x,'X')\n",
    "        #print(y,'y')\n",
    "        #print('\\n\\nGradient Update')\n",
    "        y_pred = self.forward(x) # works\n",
    "        ae = y_pred - y \n",
    "        #print('y_True:',y)\n",
    "        #print('y_Pred:',y_pred)\n",
    "        #print('ae',ae)\n",
    "        self.d_1  =  (1 - (np.tanh(self.h_1_no_bias))**2) * (self.w_21[1:]) # works\n",
    "        #print('d_1',self.d_1)\n",
    "        self.w_21_d +=  ae * self.s_1\n",
    "        self.w_10_d +=  ae * self.h_0@self.d_1.T\n",
    "        #print('w_10_d',self.w_10_d)\n",
    "        #print('w_21_d',self.w_21_d)\n",
    "        #print(np.sum(self.w_10_d),'Sum')\n",
    "        \n",
    "    def fit(self,X,y,delta=0.4):\n",
    "        epoch = 0\n",
    "        e = 1000\n",
    "        while e>=10**-5 and epoch <= 3000:\n",
    "            \n",
    "            self.w_21_d = np.zeros_like(self.w_21)\n",
    "            self.w_10_d = np.zeros_like(self.w_10)\n",
    "            #print('w_21',self.w_21)\n",
    "            #print('w_10',self.w_10)\n",
    "            np.vectorize(self.gradient_update,cache=True)(X,y)\n",
    "            #print('d_1',self.d_1)\n",
    "            self.w_21 -= delta * (0.1) * self.w_21_d\n",
    "            self.w_10 -= delta * (0.1) * self.w_10_d\n",
    "            \n",
    "            #print('Update_w_21:',self.w_21)\n",
    "            #print('Update_w_10:',self.w_10)\n",
    "            e = np.mean(np.vectorize(self.mse_error,cache=True)(X,y))\n",
    "            if (epoch % 100) == 0:\n",
    "                print(f'Error at epoch {epoch}:', round(e,3))\n",
    "           \n",
    "            epoch +=1\n",
    "        \n",
    "\n",
    "       \n",
    "    def mse_error(self,x,y):\n",
    "        self.mse = 0.5 * ((self.forward(x)-y)**2)\n",
    "        return self.mse"
   ]
  },
  {
   "cell_type": "code",
   "execution_count": 11,
   "id": "6044dac1-172e-4cde-8dba-31170e6d52fe",
   "metadata": {
    "tags": []
   },
   "outputs": [
    {
     "name": "stdout",
     "output_type": "stream",
     "text": [
      "Error at epoch 0: 0.244\n",
      "Error at epoch 100: 0.091\n",
      "Error at epoch 200: 0.09\n",
      "Error at epoch 300: 0.09\n",
      "Error at epoch 400: 0.089\n",
      "Error at epoch 500: 0.088\n",
      "Error at epoch 600: 0.086\n",
      "Error at epoch 700: 0.085\n",
      "Error at epoch 800: 0.082\n",
      "Error at epoch 900: 0.078\n",
      "Error at epoch 1000: 0.075\n",
      "Error at epoch 1100: 0.07\n",
      "Error at epoch 1200: 0.065\n",
      "Error at epoch 1300: 0.059\n",
      "Error at epoch 1400: 0.052\n",
      "Error at epoch 1500: 0.044\n",
      "Error at epoch 1600: 0.038\n",
      "Error at epoch 1700: 0.034\n",
      "Error at epoch 1800: 0.031\n",
      "Error at epoch 1900: 0.03\n",
      "Error at epoch 2000: 0.029\n",
      "Error at epoch 2100: 0.028\n",
      "Error at epoch 2200: 0.028\n",
      "Error at epoch 2300: 0.028\n",
      "Error at epoch 2400: 0.028\n",
      "Error at epoch 2500: 0.028\n",
      "Error at epoch 2600: 0.028\n",
      "Error at epoch 2700: 0.028\n",
      "Error at epoch 2800: 0.028\n",
      "Error at epoch 2900: 0.028\n",
      "Error at epoch 3000: 0.028\n"
     ]
    }
   ],
   "source": [
    "mlp = MLP_reg()\n",
    "mlp.fit(X,y)"
   ]
  },
  {
   "cell_type": "code",
   "execution_count": 12,
   "id": "beed5cb5-ebb1-4a1a-900f-eaa421b8a285",
   "metadata": {
    "tags": []
   },
   "outputs": [
    {
     "data": {
      "image/png": "[encoded data removed]",
      "text/plain": [
       "<Figure size 640x480 with 1 Axes>"
      ]
     },
     "metadata": {},
     "output_type": "display_data"
    }
   ],
   "source": [
    "%matplotlib inline\n",
    "\n",
    "plt.scatter(X, y, label='Original data')\n",
    "plt.scatter(X, np.vectorize(mlp.forward)(X), label='MLP Predicted values')\n",
    "plt.title('Scatter plot of original data and predicted values')\n",
    "plt.xlabel('X')\n",
    "plt.ylabel('y')\n",
    "plt.legend()\n",
    "plt.show()"
   ]
  },
  {
   "cell_type": "markdown",
   "id": "e1e0ba78-27bb-4316-8392-f0179f78743f",
   "metadata": {
    "tags": []
   },
   "source": [
    "## MLP implementation using Pytorch"
   ]
  },
  {
   "cell_type": "code",
   "execution_count": 13,
   "id": "9ec8d0bb-32d1-44bc-af93-be1d291689c7",
   "metadata": {
    "tags": []
   },
   "outputs": [],
   "source": [
    "# Pytorch\n",
    "class neural_network(nn.Module):\n",
    "    def __init__(self):\n",
    "        super().__init__()\n",
    "        self.layer1 = torch.nn.Linear(1,3)\n",
    "        self.layer2 = torch.nn.Tanh()\n",
    "        self.layer3 = torch.nn.Linear(3,1)\n",
    "        \n",
    "        self.layer1.weight.data = torch.Tensor(3,1).uniform_(-0.5,0.5)\n",
    "        self.layer1.bias.data =  torch.Tensor(1,3).uniform_(-0.5,0.5)\n",
    "        self.layer3.weight.data =  torch.Tensor(1,3).uniform_(-0.5,0.5)\n",
    "        self.layer3.bias.data = torch.Tensor(1).uniform_(-0.5,0.5)\n",
    "        \n",
    "    def forward(self,x): # works\n",
    "        self.out_layer1 = self.layer1(x)\n",
    "        self.out_layer2 = self.layer2(self.out_layer1)\n",
    "        self.y_pred = self.layer3(self.out_layer2)\n",
    "        return self.y_pred"
   ]
  },
  {
   "cell_type": "code",
   "execution_count": 14,
   "id": "437ca6ef-4c52-4da4-8cf8-61af9190aabc",
   "metadata": {
    "collapsed": true,
    "jupyter": {
     "outputs_hidden": true
    },
    "tags": []
   },
   "outputs": [
    {
     "name": "stdout",
     "output_type": "stream",
     "text": [
      "Error at epoch 0: 0.518\n",
      "Error at epoch 100: 0.173\n",
      "Error at epoch 200: 0.163\n",
      "Error at epoch 300: 0.146\n",
      "Error at epoch 400: 0.125\n",
      "Error at epoch 500: 0.11\n",
      "Error at epoch 600: 0.097\n",
      "Error at epoch 700: 0.088\n",
      "Error at epoch 800: 0.077\n",
      "Error at epoch 900: 0.067\n",
      "Error at epoch 1000: 0.188\n",
      "Error at epoch 1100: 0.115\n",
      "Error at epoch 1200: 0.115\n",
      "Error at epoch 1300: 0.106\n",
      "Error at epoch 1400: 0.097\n",
      "Error at epoch 1500: 0.091\n",
      "Error at epoch 1600: 0.086\n",
      "Error at epoch 1700: 0.083\n",
      "Error at epoch 1800: 0.082\n",
      "Error at epoch 1900: 0.08\n",
      "Error at epoch 2000: 0.08\n",
      "Error at epoch 2100: 0.079\n",
      "Error at epoch 2200: 0.079\n",
      "Error at epoch 2300: 0.078\n",
      "Error at epoch 2400: 0.078\n",
      "Error at epoch 2500: 0.078\n",
      "Error at epoch 2600: 0.077\n",
      "Error at epoch 2700: 0.077\n",
      "Error at epoch 2800: 0.077\n",
      "Error at epoch 2900: 0.077\n",
      "Error at epoch 3000: 0.077\n",
      "Error at epoch 3100: 0.077\n",
      "Error at epoch 3200: 0.076\n",
      "Error at epoch 3300: 0.076\n",
      "Error at epoch 3400: 0.076\n",
      "Error at epoch 3500: 0.076\n",
      "Error at epoch 3600: 0.076\n",
      "Error at epoch 3700: 0.076\n",
      "Error at epoch 3800: 0.076\n",
      "Error at epoch 3900: 0.076\n",
      "Error at epoch 4000: 0.076\n",
      "Error at epoch 4100: 0.076\n",
      "Error at epoch 4200: 0.076\n",
      "Error at epoch 4300: 0.076\n",
      "Error at epoch 4400: 0.076\n",
      "Error at epoch 4500: 0.076\n",
      "Error at epoch 4600: 0.075\n",
      "Error at epoch 4700: 0.075\n",
      "Error at epoch 4800: 0.075\n",
      "Error at epoch 4900: 0.075\n"
     ]
    }
   ],
   "source": [
    "model = neural_network()\n",
    "\n",
    "criterion = torch.nn.MSELoss()\n",
    "lr = 0.5\n",
    "for epoch in range(5000):\n",
    "    model.zero_grad()\n",
    "    y_pred = model(X)\n",
    "    loss = criterion(y_pred,y)\n",
    "    if (epoch % 100) ==0: \n",
    "        print(f'Error at epoch {epoch}:', np.round(loss.data.numpy(),3))\n",
    "\n",
    "    loss.backward()\n",
    "\n",
    "    for name, param in model.named_parameters():\n",
    "        #print('\\n\\n Before:')\n",
    "        #print('\\nName:\\n',name)\n",
    "        #print('Param:\\n',param)\n",
    "        #print('Gradient:\\n',param.grad)\n",
    "        with torch.no_grad():\n",
    "            param -= lr * param.grad\n",
    "            #print('\\n\\n After:')\n",
    "            #print('\\nName:\\n',name)\n",
    "            #print('Param:\\n',param)\n",
    "            #print('Gradient:\\n',param.grad)"
   ]
  },
  {
   "cell_type": "code",
   "execution_count": 15,
   "id": "01f9c53f-5857-4633-90be-d5c1be5427f1",
   "metadata": {
    "tags": []
   },
   "outputs": [
    {
     "data": {
      "image/png": "[encoded data removed]",
      "text/plain": [
       "<Figure size 640x480 with 1 Axes>"
      ]
     },
     "metadata": {},
     "output_type": "display_data"
    }
   ],
   "source": [
    "%matplotlib inline\n",
    "\n",
    "plt.scatter(X.numpy(), y.numpy(), label='Original data')\n",
    "plt.scatter(X.numpy(), model(X).detach().numpy(), label='Predicted values')\n",
    "plt.title('Scatter plot of original data and predicted values')\n",
    "plt.xlabel('X')\n",
    "plt.ylabel('y')\n",
    "plt.legend()\n",
    "plt.show()"
   ]
  },
  {
   "cell_type": "code",
   "execution_count": null,
   "id": "5db4b36f-04c9-4c8d-9170-919995a6b570",
   "metadata": {},
   "outputs": [],
   "source": []
  },
  {
   "cell_type": "code",
   "execution_count": null,
   "id": "451c2a32-8dea-45fe-bd83-aa2564e88912",
   "metadata": {},
   "outputs": [],
   "source": []
  }
 ],
 "metadata": {
  "kernelspec": {
   "display_name": "Python 3 (ipykernel)",
   "language": "python",
   "name": "python3"
  },
  "language_info": {
   "codemirror_mode": {
    "name": "ipython",
    "version": 3
   },
   "file_extension": ".py",
   "mimetype": "text/x-python",
   "name": "python",
   "nbconvert_exporter": "python",
   "pygments_lexer": "ipython3",
   "version": "3.11.5"
  }
 },
 "nbformat": 4,
 "nbformat_minor": 5
}
